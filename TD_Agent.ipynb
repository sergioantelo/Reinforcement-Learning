{
 "cells": [
  {
   "cell_type": "markdown",
   "metadata": {},
   "source": [
    "# TD Learning\n"
   ]
  },
  {
   "cell_type": "markdown",
   "metadata": {},
   "source": [
    "If the MDP is known, then we can use Value Iteration to calculate the actual values of V and use them to infer the optimal policy. If we don't know the MDP, we can use MC or TD learning. For this exercise you will implement the TD learning algorithm in the same MDP as before"
   ]
  },
  {
   "cell_type": "markdown",
   "metadata": {},
   "source": [
    "## The MDP"
   ]
  },
  {
   "cell_type": "markdown",
   "metadata": {},
   "source": [
    "The problem is provided by the <b>gym</b>-environment. \n",
    "\n",
    "The task is to reach the goal state <b>G</b>, starting from initial state <b>S</b>, without falling into Hole <b>H</b> and die miserably. That, means we have to reach the goal traversing the <b>F</b>  tiles. Remember that in the Frozenworld Problem the ground is slippery, meaning if you move right, you can also move upward or downward as well (the transition model is non-deterministic).\n",
    "\n",
    "The map of the MDP is the following:\n",
    "\n",
    "        S F F F\n",
    "        F H F H\n",
    "        F F F H\n",
    "        H F F G"
   ]
  },
  {
   "cell_type": "markdown",
   "metadata": {},
   "source": [
    "## TD Learning"
   ]
  },
  {
   "cell_type": "markdown",
   "metadata": {},
   "source": [
    "In TD learning we do not have access to the underlying MDP, thus we cannot estimate the <b>optimal</b> value function V. What we can do instead is estimate the value function of the policy $\\pi$ applied to the MDP using the TD(0) method:\n",
    "\n",
    "$V^{\\pi} \\left( s \\right) = V^{\\pi} \\left( s \\right) + \\alpha \\left[ r + \\gamma V^{\\pi} \\left( s' \\right) - V^{\\pi} \\left( s \\right) \\right]$\n",
    "\n",
    "Note here, that unlike Monte Carlo prediction, this update is performed after each transition in the episode, meaning we are in state $s$, perform action $a$, receive reward $r$ and end up in a new state $s'$.\n",
    "\n",
    "<b>ATTENTION</b>: As before, an importan aspect to consider is that special care needs to be taken when we are at a terminal state (e.g., in the Goal <b>G</b> or Hole <b>H</b> states of the Frozen Lake MDP). Here, no matter what action we execute, we cannot \"escape\" this state, so the Value Iteration implementation should be adapted accordingly."
   ]
  },
  {
   "cell_type": "markdown",
   "metadata": {},
   "source": [
    "## The TD(0) Agent"
   ]
  },
  {
   "cell_type": "code",
   "execution_count": 1,
   "metadata": {},
   "outputs": [],
   "source": [
    "import gym\n",
    "import numpy as np\n",
    "import random\n",
    "import matplotlib.pyplot as plt\n",
    "\n",
    "from FrozenLake import FrozenLakeEnv\n",
    "\n",
    "class TD_Agent:\n",
    "    def __init__(self, discount_factor, learning_rate):\n",
    "        self.g      = discount_factor\n",
    "        self.lr     = learning_rate\n",
    "        \n",
    "        self.MDP = FrozenLakeEnv()\n",
    "        self.MDP.seed(0)\n",
    "        self.terminals = [5,7,11,12,15]\n",
    "\n",
    "        \n",
    "        # MDP.p_a: uniform action probability (25% chance an action is selected)\n",
    "        # MDP.p_s_: uniform next-state probability\n",
    "        # MDP.P_ss_(s,a): set of all possible states when taking action a in state s\n",
    "        # MDP.R(s): reward in state s\n",
    "        # MDP.A: set of all possible actions,e.g. full action space\n",
    "        # MDP.S_(s,a): next state when taking action a in state s \n",
    "        \n",
    "        # 4x4 gridworld:\n",
    "        #\"S F F F\",\n",
    "        #\"F H F H\",\n",
    "        #\"F F F H\",\n",
    "        #\"H F F G\"\n",
    "\n",
    "        #S: Start (constant starting position, reward=0)\n",
    "        #F: Ice  (introduces stochastic action, reward=0)\n",
    "        #H: Hole (ends episode, reward=0)\n",
    "        #G: Goal (ends episode, reward=1)\n",
    "        \n",
    "        # states = {0,1,...,15}\n",
    "        self.V = np.zeros(shape=(16), dtype=float)   \n",
    "        \n",
    "    def action(self,s):\n",
    "        #LEFT = 0\n",
    "        #DOWN = 1\n",
    "        #RIGHT = 2\n",
    "        #UP = 3\n",
    "            \n",
    "        # use uniform and random policy\n",
    "        action = np.random.uniform()\n",
    "\n",
    "        if action <= 0.25: return 0\n",
    "        if action <= 0.50: return 1\n",
    "        if action <= 0.75: return 2\n",
    "        if action <= 1.00: return 3\n",
    "    \n",
    "    # TD Learning    \n",
    "    def update_TD(self,s,a,r,s_):\n",
    "        self.V[s]  = self.V[s] + self.lr*(r+self.g*self.V[s_]-self.V[s])  "
   ]
  },
  {
   "cell_type": "markdown",
   "metadata": {},
   "source": [
    "## Base Loop"
   ]
  },
  {
   "cell_type": "code",
   "execution_count": 2,
   "metadata": {},
   "outputs": [],
   "source": [
    "agentTD = TD_Agent(discount_factor=0.95,learning_rate=0.005)\n",
    "env = gym.make('FrozenLake-v0')"
   ]
  },
  {
   "cell_type": "code",
   "execution_count": 3,
   "metadata": {},
   "outputs": [],
   "source": [
    "for i in range(100000):\n",
    "    s = env.reset()  # Initializes the Frozen Lake MDP\n",
    "    while True:\n",
    "        a = agentTD.action(s)  # Apply the random policy\n",
    "        s_,r,done,_ = env.step(a)  # Observe the next state and the reward\n",
    "        \n",
    "        agentTD.update_TD(s,a,r,s_)  # Update the value function estimate using the latest transition\n",
    "                           \n",
    "        s = s_\n",
    "        \n",
    "        if done:  # If episode terminated (i.e., the agent fell into a hole, discovered the goal state or max. number of steps were done)\n",
    "            break "
   ]
  },
  {
   "cell_type": "markdown",
   "metadata": {},
   "source": [
    "## Visualization"
   ]
  },
  {
   "cell_type": "markdown",
   "metadata": {},
   "source": [
    "### Value Function"
   ]
  },
  {
   "cell_type": "code",
   "execution_count": 4,
   "metadata": {},
   "outputs": [
    {
     "name": "stdout",
     "output_type": "stream",
     "text": [
      "[[0.00766771 0.00741708 0.01459295 0.00653726]\n",
      " [0.00957835 0.         0.03139907 0.        ]\n",
      " [0.02289711 0.06945704 0.12939718 0.        ]\n",
      " [0.         0.13918085 0.4354858  0.        ]]\n"
     ]
    },
    {
     "data": {
      "image/png": "[encoded data removed]",
      "text/plain": [
       "<Figure size 216x216 with 1 Axes>"
      ]
     },
     "metadata": {
      "needs_background": "light"
     },
     "output_type": "display_data"
    }
   ],
   "source": [
    "V = agentTD.V.copy()\n",
    "plt.figure(figsize=(3,3))\n",
    "plt.imshow(V.reshape(4,4), cmap='gray', interpolation='none', clim=(0,1))\n",
    "ax = plt.gca()\n",
    "ax.set_xticks(np.arange(4)-.5)\n",
    "ax.set_yticks(np.arange(4)-.5)\n",
    "ax.set_xticklabels([])\n",
    "ax.set_yticklabels([])\n",
    "Y, X = np.mgrid[0:4, 0:4]\n",
    "a2uv = {0: (-1, 0), 1:(0, -1), 2:(1,0), 3:(-1, 0)}\n",
    "for y in range(4):\n",
    "    for x in range(4):\n",
    "        u, v = a2uv[a]\n",
    "        plt.text(x, y, str(agentTD.MDP.unwrapped.desc[y,x].item().decode()),\n",
    "                 color='g', size=12,  verticalalignment='center',\n",
    "                 horizontalalignment='center', fontweight='bold')\n",
    "plt.grid(color='b', lw=2, ls='-')\n",
    "\n",
    "print(V.reshape(4,4))"
   ]
  },
  {
   "cell_type": "markdown",
   "metadata": {},
   "source": [
    "### Policy"
   ]
  },
  {
   "cell_type": "markdown",
   "metadata": {},
   "source": [
    "Can you find a better policy based on the estimated Value function? \n",
    "\n",
    "Remember that you do not know the transition model of the MDP (i.e., if you are in state $s$ = 1 and take action $a$ = right, you don't know the possible next states $s'$)"
   ]
  }
 ],
 "metadata": {
  "kernelspec": {
   "display_name": "Python 3",
   "language": "python",
   "name": "python3"
  },
  "language_info": {
   "codemirror_mode": {
    "name": "ipython",
    "version": 3
   },
   "file_extension": ".py",
   "mimetype": "text/x-python",
   "name": "python",
   "nbconvert_exporter": "python",
   "pygments_lexer": "ipython3",
   "version": "3.7.3"
  },
  "latex_envs": {
   "LaTeX_envs_menu_present": true,
   "autoclose": false,
   "autocomplete": true,
   "bibliofile": "biblio.bib",
   "cite_by": "apalike",
   "current_citInitial": 1,
   "eqLabelWithNumbers": true,
   "eqNumInitial": 1,
   "hotkeys": {
    "equation": "Ctrl-E",
    "itemize": "Ctrl-I"
   },
   "labels_anchors": false,
   "latex_user_defs": false,
   "report_style_numbering": false,
   "user_envs_cfg": false
  },
  "toc": {
   "base_numbering": 1,
   "nav_menu": {},
   "number_sections": true,
   "sideBar": true,
   "skip_h1_title": false,
   "title_cell": "Table of Contents",
   "title_sidebar": "Contents",
   "toc_cell": false,
   "toc_position": {},
   "toc_section_display": true,
   "toc_window_display": false
  }
 },
 "nbformat": 4,
 "nbformat_minor": 2
}
